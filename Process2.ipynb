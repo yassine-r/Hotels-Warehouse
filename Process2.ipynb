{
 "cells": [
  {
   "cell_type": "code",
   "execution_count": 4,
   "id": "8f49774d",
   "metadata": {
    "execution": {
     "iopub.execute_input": "2022-04-11T22:45:54.816317Z",
     "iopub.status.busy": "2022-04-11T22:45:54.815313Z",
     "iopub.status.idle": "2022-04-11T22:46:12.283032Z",
     "shell.execute_reply": "2022-04-11T22:46:12.282023Z"
    }
   },
   "outputs": [],
   "source": [
    "import mysql.connector\n",
    "from apify_client import ApifyClient\n",
    "import pandas as pd\n",
    "from sqlalchemy import create_engine\n",
    "client = ApifyClient(\"##############################\")"
   ]
  },
  {
   "cell_type": "code",
   "execution_count": 110,
   "id": "0fde699e",
   "metadata": {
    "execution": {
     "iopub.execute_input": "2022-04-11T22:46:12.286012Z",
     "iopub.status.busy": "2022-04-11T22:46:12.286012Z",
     "iopub.status.idle": "2022-04-11T22:46:12.313674Z",
     "shell.execute_reply": "2022-04-11T22:46:12.312674Z"
    }
   },
   "outputs": [],
   "source": [
    "def BookingScrapper(city,max):\n",
    "    run_input = {\n",
    "        \"search\": city,\n",
    "        \"maxPages\": max,\n",
    "        \"sortBy\": \"distance_from_search\",\n",
    "        \"currency\": \"USD\",\n",
    "        \"language\": \"en-us\",\n",
    "        \"proxyConfig\": {\"useApifyProxy\": True},\n",
    "        \"extendOutputFunction\": \"($) => { return {} }\",\n",
    "    }\n",
    "    run = client.actor(\"dtrungtin/booking-scraper\").call(run_input=run_input)\n",
    "    return client.dataset(run[\"defaultDatasetId\"]).iterate_items()\n",
    "def TripadvisorScrapper(city,max):\n",
    "    run_input = {\n",
    "    \"locationFullName\": city,\n",
    "    \"maxItems\": max,   \n",
    "    \"language\": \"en\",\n",
    "    \"currency\": \"USD\",\n",
    "    \"proxyConfiguration\": { \"useApifyProxy\": True },\n",
    "    }\n",
    "    run = client.actor(\"maxcopell/free-tripadvisor\").call(run_input=run_input)\n",
    "    return client.dataset(run[\"defaultDatasetId\"]).iterate_items()\n",
    "\n",
    "def getLatLong(dataframe):\n",
    "    df = pd.DataFrame(columns=['name','location_final'])\n",
    "    for i in range(len(dataframe)) :\n",
    "        new_row={\n",
    "            'name':dataframe.loc[i, \"name\"],\n",
    "            'location_final':(\n",
    "                float(dataframe.loc[i, \"location\"].get('lat')),\n",
    "                float(dataframe.loc[i, \"location\"].get('lng'))\n",
    "            )\n",
    "        }\n",
    "        df = df.append(new_row,  ignore_index = True)\n",
    "    return df\n",
    "def joinLatLong(dataframe):\n",
    "    df = pd.DataFrame(columns=['name','location_final'])\n",
    "    for i in range(len(dataframe)) :\n",
    "        new_row={\n",
    "            'name':dataframe.loc[i, \"name\"],\n",
    "            'location_final':(\n",
    "                float(dataframe.loc[i, \"latitude\"]),\n",
    "                float(dataframe.loc[i, \"longitude\"])\n",
    "            )\n",
    "        }\n",
    "        df = df.append(new_row,  ignore_index = True)\n",
    "    return df"
   ]
  },
  {
   "cell_type": "code",
   "execution_count": 6,
   "id": "0e90caa0",
   "metadata": {
    "execution": {
     "iopub.execute_input": "2022-04-11T22:46:12.316686Z",
     "iopub.status.busy": "2022-04-11T22:46:12.315655Z",
     "iopub.status.idle": "2022-04-11T22:47:05.539223Z",
     "shell.execute_reply": "2022-04-11T22:47:05.536183Z"
    }
   },
   "outputs": [],
   "source": [
    "BookingScrapperData=BookingScrapper(\"Paris\",5)\n",
    "BookingScrapperDataDf = pd.DataFrame(BookingScrapperData)"
   ]
  },
  {
   "cell_type": "code",
   "execution_count": 54,
   "id": "734ba260",
   "metadata": {},
   "outputs": [],
   "source": [
    "TripadvisorScrapperData=TripadvisorScrapper(\"Paris\",100)\n",
    "TripadvisorScrapperDataDf = pd.DataFrame(TripadvisorScrapperData)"
   ]
  },
  {
   "cell_type": "code",
   "execution_count": null,
   "id": "3f7da4c3",
   "metadata": {
    "collapsed": true
   },
   "outputs": [],
   "source": [
    "BookingScrapperDataDf2 = BookingScrapperDataDf[['type','url','name','stars','reviews','rating','image','location']].copy()\n",
    "BookingScrapperDataDf3=pd.merge(BookingScrapperDataDf2,getLatLong(BookingScrapperDataDf2),on='name')\n",
    "BookingScrapperDataDf4= BookingScrapperDataDf3[['type','url','name','stars','reviews','rating','image','location_final']].copy()"
   ]
  },
  {
   "cell_type": "code",
   "execution_count": null,
   "id": "d699aa77",
   "metadata": {
    "collapsed": true
   },
   "outputs": [],
   "source": [
    "TripadvisorScrapperDataDf2 = TripadvisorScrapperDataDf[['name','webUrl','address','rankingPosition','latitude','longitude']].copy()\n",
    "TripadvisorScrapperDataDf3=pd.merge(TripadvisorScrapperDataDf2,joinLatLong(TripadvisorScrapperDataDf2),on='name')\n",
    "TripadvisorScrapperDataDf4= TripadvisorScrapperDataDf3[['address','rankingPosition','location_final']].copy()"
   ]
  },
  {
   "cell_type": "code",
   "execution_count": 118,
   "id": "2c7c1f02",
   "metadata": {},
   "outputs": [],
   "source": [
    "MergedFrame=pd.merge(BookingScrapperDataDf4,TripadvisorScrapperDataDf4,on='location_final')\n",
    "tableFait = MergedFrame[['url','rating','stars','reviews','rankingPosition']].copy()\n",
    "dimension1=MergedFrame[['url','name','image','type','address','location_final']].copy()"
   ]
  },
  {
   "cell_type": "code",
   "execution_count": 119,
   "id": "7279cbb5",
   "metadata": {
    "execution": {
     "iopub.execute_input": "2022-04-11T22:47:05.635458Z",
     "iopub.status.busy": "2022-04-11T22:47:05.635458Z",
     "iopub.status.idle": "2022-04-11T22:47:19.939569Z",
     "shell.execute_reply": "2022-04-11T22:47:19.938621Z"
    }
   },
   "outputs": [],
   "source": [
    "hostname=\"localhost\"\n",
    "dbname=\"dw\"\n",
    "uname=\"root\"\n",
    "pwd=\"rootroot\"\n",
    "\n",
    "engine = create_engine(\"mysql+pymysql://{user}:{pw}@{host}/{db}\".format(host=hostname, db=dbname, user=uname, pw=pwd))\n",
    "conn = mysql.connector.connect(user='root', password='rootroot', host='localhost', database='dw')\n",
    "cursor = conn.cursor()\n",
    "\n",
    "cursor.execute(\"DROP TABLE fait\")\n",
    "cursor.execute(\"DROP TABLE  dimension1\")\n",
    "\n",
    "tableFait.to_sql('fait', engine, index=False)\n",
    "dimension1.to_sql('dimension1', engine, index=False)\n",
    "\n",
    "conn.close()"
   ]
  }
 ],
 "metadata": {
  "kernelspec": {
   "display_name": "Python 3 (ipykernel)",
   "language": "python",
   "name": "python3"
  },
  "language_info": {
   "codemirror_mode": {
    "name": "ipython",
    "version": 3
   },
   "file_extension": ".py",
   "mimetype": "text/x-python",
   "name": "python",
   "nbconvert_exporter": "python",
   "pygments_lexer": "ipython3",
   "version": "3.9.7"
  }
 },
 "nbformat": 4,
 "nbformat_minor": 5
}
